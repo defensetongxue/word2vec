{
 "cells": [
  {
   "cell_type": "code",
   "execution_count": 8,
   "metadata": {},
   "outputs": [
    {
     "name": "stderr",
     "output_type": "stream",
     "text": [
      "c:\\Users\\guoyi\\Desktop\\word2vec\\process.py:143: FutureWarning: adjacency_matrix will return a scipy.sparse array instead of a matrix in Networkx 3.0.\n",
      "  adj = nx.adjacency_matrix(G, sorted(G.nodes()))\n"
     ]
    }
   ],
   "source": [
    "from process import full_load_data\n",
    "from word2vec import word2vec\n",
    "dataset='chameleon'\n",
    "datastr = dataset\n",
    "splitstr = 'splits/'+dataset+'_split_0.6_0.2_0.npz'\n",
    "adj, adj_i, features, labels, idx_train, idx_val, idx_test = full_load_data(\n",
    "        datastr, splitstr)\n",
    "adj=adj.to_dense()"
   ]
  },
  {
   "cell_type": "code",
   "execution_count": 9,
   "metadata": {},
   "outputs": [
    {
     "data": {
      "text/plain": [
       "(12.805006587615283, 89, 0)"
      ]
     },
     "execution_count": 9,
     "metadata": {},
     "output_type": "execute_result"
    }
   ],
   "source": [
    "import pickle as pkl\n",
    "w2v=word2vec(8)\n",
    "pkl.dump(w2v(adj,features),open(dataset+'_embed.pkl','wb'))"
   ]
  }
 ],
 "metadata": {
  "interpreter": {
   "hash": "3dbd0a935d7f1db40ec3d5e959ea3e2c14150e9ea49ada0d09da77bc269e6bf3"
  },
  "kernelspec": {
   "display_name": "Python 3.9.7 ('reasearch')",
   "language": "python",
   "name": "python3"
  },
  "language_info": {
   "codemirror_mode": {
    "name": "ipython",
    "version": 3
   },
   "file_extension": ".py",
   "mimetype": "text/x-python",
   "name": "python",
   "nbconvert_exporter": "python",
   "pygments_lexer": "ipython3",
   "version": "3.9.7"
  },
  "orig_nbformat": 4
 },
 "nbformat": 4,
 "nbformat_minor": 2
}
